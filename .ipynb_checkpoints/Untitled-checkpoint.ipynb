{
 "cells": [
  {
   "cell_type": "code",
   "execution_count": 1,
   "metadata": {},
   "outputs": [],
   "source": [
    "import datetime as dt\n",
    "\n",
    "#data collection packages\n",
    "import csv\n",
    "import logging\n",
    "import requests\n",
    "from bs4 import BeautifulSoup\n",
    "from pathlib import Path\n",
    "from twitterscraper import query_tweets\n",
    "\n",
    "import time\n",
    "from selenium import webdriver\n",
    "from selenium.webdriver.common.keys import Keys\n",
    "from webdriver_manager.chrome import ChromeDriverManager\n",
    "\n",
    "# data processing packages\n",
    "import numpy as np\n",
    "import pandas as pd"
   ]
  },
  {
   "cell_type": "code",
   "execution_count": 2,
   "metadata": {},
   "outputs": [],
   "source": [
    "def get_team_handles():\n",
    "    driver = webdriver.Chrome(ChromeDriverManager().install())\n",
    "    \n",
    "    browser = webdriver.Chrome('/Users/paulcrupi/.wdm/chromedriver/2.46/mac64/chromedriver')\n",
    "    url = 'https://twitter.com/NHL/lists/nhl-team-accounts/members?lang=en'\n",
    "    browser.get(url)\n",
    "    time.sleep(1)\n",
    "    body = browser.find_element_by_tag_name('body')\n",
    "\n",
    "    for i in range(5):\n",
    "        body.send_keys(Keys.PAGE_DOWN)\n",
    "        time.sleep(0.2)\n",
    "\n",
    "    tweets = browser.find_elements_by_class_name('username')\n",
    "\n",
    "    team_handles = []\n",
    "    for tweet in tweets:\n",
    "        if tweet.text:\n",
    "            team_handles.append(tweet.text)\n",
    "    return team_handles"
   ]
  },
  {
   "cell_type": "code",
   "execution_count": 3,
   "metadata": {},
   "outputs": [],
   "source": [
    "def collect_data():\n",
    "    logger = logging.getLogger('twitterscraper')\n",
    "    logger.disabled = True\n",
    "    \n",
    "    r = requests.get('https://twitter.com/NHL/lists/nhl-team-accounts/members?lang=en')\n",
    "    with open(datafile, 'w') as csv_file:\n",
    "        fieldnames = ['user', 'team', 'timestamp', 'likes', 'replies', 'retweets', 'text']\n",
    "        csv_writer = csv.DictWriter(csv_file, fieldnames=fieldnames)\n",
    "\n",
    "        csv_writer.writeheader()\n",
    "\n",
    "        for team in team_handles:\n",
    "            tweets_per_team = 1000\n",
    "            begindate = dt.date(2018, 10, 3)\n",
    "            enddate = dt.date.today()\n",
    "#             def query_tweets(query, limit=None, begindate=dt.date(2006, 3, 21), enddate=dt.date.today(), poolsize=20, lang=''):\n",
    "            team_tweets = query_tweets(team, limit=10000, begindate=begindate, enddate=enddate)\n",
    "            for tweet in team_tweets:\n",
    "                csv_writer.writerow({'user': tweet.user,\n",
    "                                     'team': team,\n",
    "                                     'timestamp': tweet.timestamp,\n",
    "                                     'likes': tweet.likes,\n",
    "                                     'replies': tweet.replies,\n",
    "                                     'retweets': tweet.retweets,\n",
    "                                     'text': tweet.text})"
   ]
  },
  {
   "cell_type": "code",
   "execution_count": 4,
   "metadata": {},
   "outputs": [
    {
     "name": "stdout",
     "output_type": "stream",
     "text": [
      "\n",
      "Checking for mac64 chromedriver:2.46 in cache\n",
      "Driver found in /Users/paulcrupi/.wdm/chromedriver/2.46/mac64/chromedriver\n"
     ]
    }
   ],
   "source": [
    "team_handles = get_team_handles()"
   ]
  },
  {
   "cell_type": "code",
   "execution_count": 5,
   "metadata": {},
   "outputs": [],
   "source": [
    "datafile = 'data/tweets.csv'\n",
    "if not Path(datafile).exists():\n",
    "    collect_data()\n",
    "tweets_data = pd.read_csv(datafile)\n",
    "    "
   ]
  },
  {
   "cell_type": "code",
   "execution_count": 26,
   "metadata": {},
   "outputs": [
    {
     "name": "stdout",
     "output_type": "stream",
     "text": [
      "['@NHLSeattle_', '@GoldenKnights', '@NHLJets', '@MapleLeafs', '@NHL', '@NHLSeattle_', '@GoldenKnights', '@NHLJets', '@MapleLeafs', '@NHLBruins', '@Senators', '@NJDevils', '@FlaPanthers', '@DallasStars', '@PredsNHL', '@TBLightning', '@SanJoseSharks', '@NHLFlames', '@Avalanche', '@BlueJacketsNHL', '@StLouisBlues', '@BuffaloSabres', '@NYRangers', '@ArizonaCoyotes', '@AnaheimDucks', '@CanadiensMTL', '@NHLCanes', '@NHLFlyers', '@LAKings', '@mnwild', '@Canucks', '@DetroitRedWings', '@NYIslanders', '@EdmontonOilers', '@penguins', '@Capitals', '@NHLBlackhawks']\n"
     ]
    },
    {
     "data": {
      "text/html": [
       "<div>\n",
       "<style scoped>\n",
       "    .dataframe tbody tr th:only-of-type {\n",
       "        vertical-align: middle;\n",
       "    }\n",
       "\n",
       "    .dataframe tbody tr th {\n",
       "        vertical-align: top;\n",
       "    }\n",
       "\n",
       "    .dataframe thead th {\n",
       "        text-align: right;\n",
       "    }\n",
       "</style>\n",
       "<table border=\"1\" class=\"dataframe\">\n",
       "  <thead>\n",
       "    <tr style=\"text-align: right;\">\n",
       "      <th></th>\n",
       "      <th>user</th>\n",
       "      <th>team</th>\n",
       "      <th>timestamp</th>\n",
       "      <th>likes</th>\n",
       "      <th>replies</th>\n",
       "      <th>retweets</th>\n",
       "      <th>text</th>\n",
       "    </tr>\n",
       "  </thead>\n",
       "  <tbody>\n",
       "    <tr>\n",
       "      <th>49641</th>\n",
       "      <td>matthewamiller</td>\n",
       "      <td>@NHLSeattle_</td>\n",
       "      <td>2018-09-27 20:50:50</td>\n",
       "      <td>42722</td>\n",
       "      <td>1010</td>\n",
       "      <td>10450</td>\n",
       "      <td>That tantrum from Graham was solely because Ka...</td>\n",
       "    </tr>\n",
       "  </tbody>\n",
       "</table>\n",
       "</div>"
      ],
      "text/plain": [
       "                 user          team            timestamp  likes  replies  \\\n",
       "49641  matthewamiller  @NHLSeattle_  2018-09-27 20:50:50  42722     1010   \n",
       "\n",
       "       retweets                                               text  \n",
       "49641     10450  That tantrum from Graham was solely because Ka...  "
      ]
     },
     "execution_count": 26,
     "metadata": {},
     "output_type": "execute_result"
    }
   ],
   "source": [
    "print(team_handles)\n",
    "team_tweets = tweets_data[tweets_data['team'] != '@NHL']\n",
    "team_tweets[team_tweets.likes == team_tweets.likes.max()]"
   ]
  },
  {
   "cell_type": "code",
   "execution_count": null,
   "metadata": {},
   "outputs": [],
   "source": []
  },
  {
   "cell_type": "code",
   "execution_count": null,
   "metadata": {},
   "outputs": [],
   "source": []
  }
 ],
 "metadata": {
  "kernelspec": {
   "display_name": "Python 3",
   "language": "python",
   "name": "python3"
  },
  "language_info": {
   "codemirror_mode": {
    "name": "ipython",
    "version": 3
   },
   "file_extension": ".py",
   "mimetype": "text/x-python",
   "name": "python",
   "nbconvert_exporter": "python",
   "pygments_lexer": "ipython3",
   "version": "3.7.1"
  }
 },
 "nbformat": 4,
 "nbformat_minor": 2
}
