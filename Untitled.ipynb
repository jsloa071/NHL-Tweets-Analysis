{
 "cells": [
  {
   "cell_type": "code",
   "execution_count": 1,
   "metadata": {},
   "outputs": [],
   "source": [
    "import logging\n",
    "import requests\n",
    "from bs4 import BeautifulSoup\n",
    "from twitterscraper import query_tweets"
   ]
  },
  {
   "cell_type": "code",
   "execution_count": 2,
   "metadata": {},
   "outputs": [],
   "source": [
    "# disable twitterscraper default logging\n",
    "logger = logging.getLogger('twitterscraper')\n",
    "logger.disabled = True"
   ]
  },
  {
   "cell_type": "code",
   "execution_count": 3,
   "metadata": {},
   "outputs": [],
   "source": [
    "teams_dict = {\n",
    "    \n",
    "}"
   ]
  },
  {
   "cell_type": "code",
   "execution_count": 4,
   "metadata": {},
   "outputs": [],
   "source": [
    "r = requests.get('https://twitter.com/NHL/lists/nhl-team-accounts/members?lang=en')"
   ]
  },
  {
   "cell_type": "code",
   "execution_count": 5,
   "metadata": {},
   "outputs": [],
   "source": [
    "sens_tweets = query_tweets(\"@Senators\", 1000)"
   ]
  },
  {
   "cell_type": "code",
   "execution_count": 6,
   "metadata": {},
   "outputs": [
    {
     "name": "stdout",
     "output_type": "stream",
     "text": [
      "McAuley's This Day - Marshall Johnston named Senators' 5th g.m. in 1999. Bryan Murray named club's 5th head coach in 2004.\n",
      "Picard is also auctioning 2 junior jerseys http://bit.ly/9dCPy and http://bit.ly/vl1Ra.\n",
      "Picard reminds us of his golf tournament in August, http://www.alexpicard.com/, for the Gatineau hospital foundation.\n",
      "Alexandre Picard worked out this morning at Scotiabank Place.\n",
      "On this date in 2004, current Sens GM Bryan Murray was hired as the fifth head coach in Senators history\n",
      "Former Sen Curtis Leschyshyn (cleschyshyn) road racing Saturday in John Stenner Memorial State (CO) TT Championships - category SM35+3.\n",
      "Happy birthday to Sens centre Mike Fisher, who turns 29 today.\n",
      "Entry draft remains vital pipeline for Sens: \r\n",
      "\n",
      " Defenceman Anton Volchenkov is one of five first-.. http://bit.ly/12ToFM\n",
      "Draft selection 'happy moment' for O'Brien: \r\n",
      "\n",
      " Jim O'Brien admits it was a surprise when the Sena.. http://bit.ly/D1E4Z\n",
      "Foligno's draft memories still special: \r\n",
      "\n",
      " Nick Foligno was all smiles when the Senators made him.. http://bit.ly/AC6gG\n",
      "A dream day for Lee ... and hockey: \r\n",
      "\n",
      " The Senators made defenceman Brian Lee the ninth overall p.. http://bit.ly/XGeN7\n",
      "Chamber honours Cyril Leeder: Senators and Scotiabank Place COO Cyril Leeder speaks at a ceremony Wednesday afte.. http://bit.ly/s4HwW\n",
      "SensSens forward Shean Donovan is co-hosting today on the \"Healthy Scratches\" on the Team 1200 radio\n",
      "Defenceman Alexandre Picard takes part in CJRC golf tournament. CJRC also renews their Sens broadcast agreement for three more years.\n",
      "Twinews: Catch Cyril Leeder live on CTV Ottawa at 12:03 p.m. today\n",
      "Twinews: Senators COO Leeder to be recognized as the 2008 Business Person of the Year by the Ottawa Chamber of Commerce this morning\n",
      "Twinews: GM Murray leaves today for gm meetings in Pittsburgh.\n",
      "Twinews: Sens sign Ryan Keller - http://bit.ly/KpolQ.\n",
      "Hey Sens Army! Welcome to the Sens official Twitter feed, where you'll be the first to get breaking Sens news and behind the scenes info!\n",
      "@PorkBarrells @Fillibusters @Senators @Congressmen @Legal @Findlaw @CongressionalOffices @Constituents @WakeUp ... ♫ http://blip.fm/~60qzy\n"
     ]
    }
   ],
   "source": [
    "for tweet in sens_tweets[:20]:\n",
    "    print(tweet.text)"
   ]
  },
  {
   "cell_type": "code",
   "execution_count": 7,
   "metadata": {},
   "outputs": [],
   "source": [
    "# r = requests.get('https://twitter.com/NHL/lists/nhl-team-accounts/members?lang=en')\n",
    "# soup = BeautifulSoup(r.text, 'html.parser')\n",
    "# team_account_name_list = soup.find(class_='stream-items')\n",
    "# team_account_name_list = team_account_name_list.find_all('span', {'class': 'username'})\n"
   ]
  },
  {
   "cell_type": "code",
   "execution_count": null,
   "metadata": {},
   "outputs": [],
   "source": []
  },
  {
   "cell_type": "code",
   "execution_count": 9,
   "metadata": {},
   "outputs": [
    {
     "name": "stdout",
     "output_type": "stream",
     "text": [
      "\n",
      "Checking for mac64 chromedriver:2.46 in cache\n",
      "Driver found in /Users/paulcrupi/.wdm/chromedriver/2.46/mac64/chromedriver\n"
     ]
    }
   ],
   "source": [
    "import time\n",
    "from selenium import webdriver\n",
    "from selenium.webdriver.common.keys import Keys\n",
    "from webdriver_manager.chrome import ChromeDriverManager\n",
    "\n",
    "driver = webdriver.Chrome(ChromeDriverManager().install())"
   ]
  },
  {
   "cell_type": "code",
   "execution_count": 17,
   "metadata": {},
   "outputs": [],
   "source": [
    "browser = webdriver.Chrome('/Users/paulcrupi/.wdm/chromedriver/2.46/mac64/chromedriver')\n",
    "url = 'https://twitter.com/NHL/lists/nhl-team-accounts/members?lang=en'\n",
    "browser.get(url)\n",
    "time.sleep(1)\n",
    "body = browser.find_element_by_tag_name('body')\n",
    "\n",
    "for i in range(5):\n",
    "    body.send_keys(Keys.PAGE_DOWN)\n",
    "    time.sleep(0.2)\n",
    "\n",
    "tweets = browser.find_elements_by_class_name('username')\n",
    "\n",
    "team_handles = []\n",
    "for tweet in tweets:\n",
    "    if tweet.text:\n",
    "        team_handles.append(tweet.text)"
   ]
  },
  {
   "cell_type": "code",
   "execution_count": 18,
   "metadata": {},
   "outputs": [
    {
     "name": "stdout",
     "output_type": "stream",
     "text": [
      "@NHLSeattle_\n",
      "@GoldenKnights\n",
      "@NHLJets\n",
      "@MapleLeafs\n",
      "@NHL\n",
      "@NHLSeattle_\n",
      "@GoldenKnights\n",
      "@NHLJets\n",
      "@MapleLeafs\n",
      "@NHLBruins\n",
      "@Senators\n",
      "@NJDevils\n",
      "@FlaPanthers\n",
      "@DallasStars\n",
      "@PredsNHL\n",
      "@TBLightning\n",
      "@SanJoseSharks\n",
      "@NHLFlames\n",
      "@Avalanche\n",
      "@BlueJacketsNHL\n",
      "@StLouisBlues\n",
      "@BuffaloSabres\n",
      "@NYRangers\n",
      "@ArizonaCoyotes\n",
      "@AnaheimDucks\n",
      "@CanadiensMTL\n",
      "@NHLCanes\n",
      "@NHLFlyers\n",
      "@LAKings\n",
      "@mnwild\n",
      "@Canucks\n",
      "@DetroitRedWings\n",
      "@NYIslanders\n",
      "@EdmontonOilers\n",
      "@penguins\n",
      "@Capitals\n",
      "@NHLBlackhawks\n"
     ]
    }
   ],
   "source": [
    "for handle in team_handles:\n",
    "    print(handle)"
   ]
  },
  {
   "cell_type": "code",
   "execution_count": null,
   "metadata": {},
   "outputs": [
    {
     "name": "stdout",
     "output_type": "stream",
     "text": [
      "Hey, good idea  it's theodore then...oh, wait...there's more to choose from...new problem...\n",
      "@NHLSeattle_  I can’t wait to get a team and then a new dog and name that pupster after one of our players just like @BarkAndreFurry !!! #GoalSetting\n",
      "We hope so! #WannaSeeStanleyAgain\n",
      "\n",
      "#HumboldtStrong #NHLSeattlehttps://twitter.com/NBCSCapitals/status/1007235501508743168 …\n",
      "\n",
      "U.S. Arny's @goldenknights offering me a skydive from a perfeclty good running plane at 13,000ft. What does the twitter crew think? #dfwnews\n",
      "@ShannonEncina Where can I find the Facebook page of the #HollandCollegeGoldenKnights?  @hollandcollege @GoldenKnights\n",
      "@goldenknights @USArmy Jumping to bring the keys to the house to the Hughes family! Look up @fuquay-varina@OperComingHome\n",
      "#ff @goldenknights @goarmy @battleatthecapital @airbornerangers\n",
      "big things come n little pkgs\"@NancyLoo: “@kathenn76: @NancyLoo That hot tall skydiver was just checking you out!” Ha! Luv @GoldenKnights.”\n",
      "I just registered @nhljets! lol\n",
      "@nhljets HEY!!\n",
      "Thanks A MILLION to my bro @TimmyDee123 for taking me to the @NHLJets game today!!! WHAT A GAME!!!! pic.twitter.com/VKkUioNWep\n",
      "Exciting, hard-fought game between @NYIslanders and @NHLJets. Looked like playoff hockey out there. Despite SO loss, Jets look #PlayoffBound\n",
      "WATCH: Catch Pavelec's highlight saves and Wellwood's goals here! #NHLJets >> http://bit.ly/ozqmIx \n",
      "#custom #web #application #development - http://www.applicationdevelopmentweb.com/custom-web-application-development.html\n",
      "@lovingxADUB hahaaaa yeah\n",
      "@TheEllenShow ELLEN!!! http://www.youtube.com/watch?v=BJPzWewRwuM BETTA CHECK DIS THANG RIGHT NOW...WHY WOULD I LIE?? SERIOUS BIZZ!\n",
      "@Kennax3 noo.  Brazil & Spain <3  wbu?\n",
      "@xtinekendall oh yeah I know! haha but I don't have any goods to hu$tle :/\n",
      "@NHL SARAH PALIN is dropping the puck at the Rangers Vs Flyers game on Saturday? Really? I mean really?\n",
      "@nhl noodgedwongen achter een windowsbak omdat wifi zuigt en er geen netwerkkabels meer over zijn...\n",
      "klaar @NHL nu op weg naar huis voor wat f00d en zo\n",
      "morgenvroeg toch niet naar @polledemaagt @NHL, moet echt even andere prioriteiten stellen\n",
      "Op naar school iemand zin om te lunchen @nhl\n",
      "Hey, good idea  it's theodore then...oh, wait...there's more to choose from...new problem...\n",
      "@NHLSeattle_  I can’t wait to get a team and then a new dog and name that pupster after one of our players just like @BarkAndreFurry !!! #GoalSetting\n",
      "We hope so! #WannaSeeStanleyAgain\n",
      "\n",
      "#HumboldtStrong #NHLSeattlehttps://twitter.com/NBCSCapitals/status/1007235501508743168 …\n",
      "\n",
      "#ff @goldenknights @goarmy @battleatthecapital @airbornerangers\n",
      "U.S. Arny's @goldenknights offering me a skydive from a perfeclty good running plane at 13,000ft. What does the twitter crew think? #dfwnews\n",
      "@ShannonEncina Where can I find the Facebook page of the #HollandCollegeGoldenKnights?  @hollandcollege @GoldenKnights\n",
      "@goldenknights @USArmy Jumping to bring the keys to the house to the Hughes family! Look up @fuquay-varina@OperComingHome\n",
      "big things come n little pkgs\"@NancyLoo: “@kathenn76: @NancyLoo That hot tall skydiver was just checking you out!” Ha! Luv @GoldenKnights.”\n",
      "I just registered @nhljets! lol\n",
      "@nhljets HEY!!\n",
      "Support Big Brothers Big Sisters of #Winnipeg w/ The Big Deal Auction! Bid on @WestJet vouchers, @NHLJets tix & more! http://winnipeg.virginradio.ca/events/Details.aspx?ID=400993 …\n",
      "@Avalanche @NHLJets @rockyR5\n",
      "We're giving away @NHLJets tickets!!! Enter our contest here: https://www.facebook.com/canlanwpg/posts/619624421428214 … #WPG Winnipeg #Jets\n"
     ]
    },
    {
     "name": "stderr",
     "output_type": "stream",
     "text": [
      "Process ForkPoolWorker-203:\n",
      "Process ForkPoolWorker-202:\n",
      "Process ForkPoolWorker-204:\n",
      "Process ForkPoolWorker-201:\n",
      "Traceback (most recent call last):\n",
      "Traceback (most recent call last):\n",
      "Traceback (most recent call last):\n",
      "  File \"/Users/paulcrupi/anaconda3/lib/python3.7/multiprocessing/process.py\", line 297, in _bootstrap\n",
      "    self.run()\n",
      "  File \"/Users/paulcrupi/anaconda3/lib/python3.7/multiprocessing/process.py\", line 297, in _bootstrap\n",
      "    self.run()\n",
      "  File \"/Users/paulcrupi/anaconda3/lib/python3.7/multiprocessing/process.py\", line 297, in _bootstrap\n",
      "    self.run()\n",
      "  File \"/Users/paulcrupi/anaconda3/lib/python3.7/multiprocessing/process.py\", line 99, in run\n",
      "    self._target(*self._args, **self._kwargs)\n",
      "  File \"/Users/paulcrupi/anaconda3/lib/python3.7/multiprocessing/process.py\", line 99, in run\n",
      "    self._target(*self._args, **self._kwargs)\n",
      "  File \"/Users/paulcrupi/anaconda3/lib/python3.7/multiprocessing/process.py\", line 99, in run\n",
      "    self._target(*self._args, **self._kwargs)\n",
      "  File \"/Users/paulcrupi/anaconda3/lib/python3.7/multiprocessing/pool.py\", line 110, in worker\n",
      "    task = get()\n",
      "  File \"/Users/paulcrupi/anaconda3/lib/python3.7/multiprocessing/pool.py\", line 110, in worker\n",
      "    task = get()\n",
      "  File \"/Users/paulcrupi/anaconda3/lib/python3.7/multiprocessing/pool.py\", line 110, in worker\n",
      "    task = get()\n",
      "Traceback (most recent call last):\n",
      "  File \"/Users/paulcrupi/anaconda3/lib/python3.7/multiprocessing/queues.py\", line 351, in get\n",
      "    with self._rlock:\n",
      "  File \"/Users/paulcrupi/anaconda3/lib/python3.7/multiprocessing/queues.py\", line 351, in get\n",
      "    with self._rlock:\n",
      "  File \"/Users/paulcrupi/anaconda3/lib/python3.7/multiprocessing/queues.py\", line 351, in get\n",
      "    with self._rlock:\n",
      "  File \"/Users/paulcrupi/anaconda3/lib/python3.7/multiprocessing/process.py\", line 297, in _bootstrap\n",
      "    self.run()\n",
      "  File \"/Users/paulcrupi/anaconda3/lib/python3.7/multiprocessing/synchronize.py\", line 95, in __enter__\n",
      "    return self._semlock.__enter__()\n",
      "  File \"/Users/paulcrupi/anaconda3/lib/python3.7/multiprocessing/synchronize.py\", line 95, in __enter__\n",
      "    return self._semlock.__enter__()\n",
      "  File \"/Users/paulcrupi/anaconda3/lib/python3.7/multiprocessing/synchronize.py\", line 95, in __enter__\n",
      "    return self._semlock.__enter__()\n",
      "  File \"/Users/paulcrupi/anaconda3/lib/python3.7/multiprocessing/process.py\", line 99, in run\n",
      "    self._target(*self._args, **self._kwargs)\n",
      "KeyboardInterrupt\n",
      "KeyboardInterrupt\n",
      "  File \"/Users/paulcrupi/anaconda3/lib/python3.7/multiprocessing/pool.py\", line 110, in worker\n",
      "    task = get()\n",
      "KeyboardInterrupt\n",
      "  File \"/Users/paulcrupi/anaconda3/lib/python3.7/multiprocessing/queues.py\", line 352, in get\n",
      "    res = self._reader.recv_bytes()\n",
      "  File \"/Users/paulcrupi/anaconda3/lib/python3.7/multiprocessing/connection.py\", line 216, in recv_bytes\n",
      "    buf = self._recv_bytes(maxlength)\n",
      "  File \"/Users/paulcrupi/anaconda3/lib/python3.7/multiprocessing/connection.py\", line 407, in _recv_bytes\n",
      "    buf = self._recv(4)\n",
      "  File \"/Users/paulcrupi/anaconda3/lib/python3.7/multiprocessing/connection.py\", line 379, in _recv\n",
      "    chunk = read(handle, remaining)\n",
      "KeyboardInterrupt\n"
     ]
    },
    {
     "name": "stdout",
     "output_type": "stream",
     "text": [
      "@e_winters Atta boy. Well, I still have the @nhlbruins and @nhlblackhawks. I am a torn man.\n",
      "RT @NHLBruins: 22: \"Pretty tough week for the city, the country. A lot of proud Bostonians (cont) http://tl.gd/lk6lgb \n",
      "RT @NHLBruins: Thorty: \"not a dry eye again...could probably take my quotes from Wednesday (cont) http://tl.gd/lk6lf2 \n",
      "@NHLBruins same outcome too\n",
      "@FiestyGirl04 I retweet tons of stuff from lots of different people, mostly sports, especially #Bruins. Follow @NHLBruins\n",
      "McAuley's This Day - Marshall Johnston named Senators' 5th g.m. in 1999. Bryan Murray named club's 5th head coach in 2004.\n",
      "Picard is also auctioning 2 junior jerseys http://bit.ly/9dCPy and http://bit.ly/vl1Ra.\n",
      "Picard reminds us of his golf tournament in August, http://www.alexpicard.com/, for the Gatineau hospital foundation.\n",
      "Alexandre Picard worked out this morning at Scotiabank Place.\n",
      "On this date in 2004, current Sens GM Bryan Murray was hired as the fifth head coach in Senators history\n"
     ]
    }
   ],
   "source": [
    "for handle in team_handles:\n",
    "    team_tweets = query_tweets(handle, 1000)\n",
    "    for tweet in team_tweets[:5]:\n",
    "        print(tweet.text)"
   ]
  },
  {
   "cell_type": "code",
   "execution_count": null,
   "metadata": {},
   "outputs": [],
   "source": []
  }
 ],
 "metadata": {
  "kernelspec": {
   "display_name": "Python 3",
   "language": "python",
   "name": "python3"
  },
  "language_info": {
   "codemirror_mode": {
    "name": "ipython",
    "version": 3
   },
   "file_extension": ".py",
   "mimetype": "text/x-python",
   "name": "python",
   "nbconvert_exporter": "python",
   "pygments_lexer": "ipython3",
   "version": "3.7.1"
  }
 },
 "nbformat": 4,
 "nbformat_minor": 2
}
